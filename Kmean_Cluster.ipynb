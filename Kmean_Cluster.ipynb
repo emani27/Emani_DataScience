{
 "cells": [
  {
   "cell_type": "code",
   "execution_count": 1,
   "metadata": {},
   "outputs": [],
   "source": [
    "from IPython.display import Image"
   ]
  },
  {
   "cell_type": "code",
   "execution_count": 2,
   "metadata": {},
   "outputs": [],
   "source": [
    "import pandas as pd\n",
    "import numpy as np\n",
    "import seaborn as sns \n",
    "import matplotlib.pyplot as plt"
   ]
  },
  {
   "cell_type": "code",
   "execution_count": 4,
   "metadata": {},
   "outputs": [
    {
     "data": {
      "text/plain": [
       "'/Users/emani/Downloads/Projects'"
      ]
     },
     "execution_count": 4,
     "metadata": {},
     "output_type": "execute_result"
    }
   ],
   "source": [
    "pwd"
   ]
  },
  {
   "cell_type": "code",
   "execution_count": 35,
   "metadata": {},
   "outputs": [
    {
     "data": {
      "text/html": [
       "<div>\n",
       "<style scoped>\n",
       "    .dataframe tbody tr th:only-of-type {\n",
       "        vertical-align: middle;\n",
       "    }\n",
       "\n",
       "    .dataframe tbody tr th {\n",
       "        vertical-align: top;\n",
       "    }\n",
       "\n",
       "    .dataframe thead th {\n",
       "        text-align: right;\n",
       "    }\n",
       "</style>\n",
       "<table border=\"1\" class=\"dataframe\">\n",
       "  <thead>\n",
       "    <tr style=\"text-align: right;\">\n",
       "      <th></th>\n",
       "      <th>Year Type</th>\n",
       "      <th>Year</th>\n",
       "      <th>Organization Group Code</th>\n",
       "      <th>Organization Group</th>\n",
       "      <th>Department Code</th>\n",
       "      <th>Department</th>\n",
       "      <th>Union Code</th>\n",
       "      <th>Union</th>\n",
       "      <th>Job Family Code</th>\n",
       "      <th>Job Family</th>\n",
       "      <th>...</th>\n",
       "      <th>Employee Identifier</th>\n",
       "      <th>Salaries</th>\n",
       "      <th>Overtime</th>\n",
       "      <th>Other Salaries</th>\n",
       "      <th>Total Salary</th>\n",
       "      <th>Retirement</th>\n",
       "      <th>Health/Dental</th>\n",
       "      <th>Other Benefits</th>\n",
       "      <th>Total Benefits</th>\n",
       "      <th>Total Compensation</th>\n",
       "    </tr>\n",
       "  </thead>\n",
       "  <tbody>\n",
       "    <tr>\n",
       "      <th>0</th>\n",
       "      <td>Fiscal</td>\n",
       "      <td>2016</td>\n",
       "      <td>1</td>\n",
       "      <td>Public Protection</td>\n",
       "      <td>DAT</td>\n",
       "      <td>District Attorney</td>\n",
       "      <td>311.0</td>\n",
       "      <td>Municipal Attorneys' Association</td>\n",
       "      <td>8100</td>\n",
       "      <td>Legal &amp; Court</td>\n",
       "      <td>...</td>\n",
       "      <td>49919</td>\n",
       "      <td>114473.16</td>\n",
       "      <td>0.0</td>\n",
       "      <td>1500.00</td>\n",
       "      <td>115973.16</td>\n",
       "      <td>21025.98</td>\n",
       "      <td>13068.80</td>\n",
       "      <td>9368.71</td>\n",
       "      <td>43463.49</td>\n",
       "      <td>159436.65</td>\n",
       "    </tr>\n",
       "    <tr>\n",
       "      <th>1</th>\n",
       "      <td>Calendar</td>\n",
       "      <td>2013</td>\n",
       "      <td>5</td>\n",
       "      <td>Culture &amp; Recreation</td>\n",
       "      <td>ART</td>\n",
       "      <td>Arts Commission</td>\n",
       "      <td>790.0</td>\n",
       "      <td>SEIU - Miscellaneous, Local 1021</td>\n",
       "      <td>1800</td>\n",
       "      <td>Budget, Admn &amp; Stats Analysis</td>\n",
       "      <td>...</td>\n",
       "      <td>1225</td>\n",
       "      <td>84077.11</td>\n",
       "      <td>0.0</td>\n",
       "      <td>0.00</td>\n",
       "      <td>84077.11</td>\n",
       "      <td>16587.30</td>\n",
       "      <td>12457.73</td>\n",
       "      <td>6931.91</td>\n",
       "      <td>35976.94</td>\n",
       "      <td>120054.05</td>\n",
       "    </tr>\n",
       "    <tr>\n",
       "      <th>2</th>\n",
       "      <td>Calendar</td>\n",
       "      <td>2015</td>\n",
       "      <td>4</td>\n",
       "      <td>Community Health</td>\n",
       "      <td>DPH</td>\n",
       "      <td>Public Health</td>\n",
       "      <td>535.0</td>\n",
       "      <td>SEIU - Human Services, Local 1021</td>\n",
       "      <td>2900</td>\n",
       "      <td>Human Services</td>\n",
       "      <td>...</td>\n",
       "      <td>34873</td>\n",
       "      <td>9980.17</td>\n",
       "      <td>0.0</td>\n",
       "      <td>798.43</td>\n",
       "      <td>10778.60</td>\n",
       "      <td>0.00</td>\n",
       "      <td>2254.93</td>\n",
       "      <td>835.11</td>\n",
       "      <td>3090.04</td>\n",
       "      <td>13868.64</td>\n",
       "    </tr>\n",
       "    <tr>\n",
       "      <th>3</th>\n",
       "      <td>Fiscal</td>\n",
       "      <td>2015</td>\n",
       "      <td>4</td>\n",
       "      <td>Community Health</td>\n",
       "      <td>DPH</td>\n",
       "      <td>Public Health</td>\n",
       "      <td>250.0</td>\n",
       "      <td>SEIU - Health Workers, Local 1021</td>\n",
       "      <td>2200</td>\n",
       "      <td>Medical &amp; Dental</td>\n",
       "      <td>...</td>\n",
       "      <td>51145</td>\n",
       "      <td>2873.41</td>\n",
       "      <td>0.0</td>\n",
       "      <td>0.00</td>\n",
       "      <td>2873.41</td>\n",
       "      <td>0.00</td>\n",
       "      <td>622.63</td>\n",
       "      <td>222.46</td>\n",
       "      <td>845.09</td>\n",
       "      <td>3718.50</td>\n",
       "    </tr>\n",
       "    <tr>\n",
       "      <th>4</th>\n",
       "      <td>Fiscal</td>\n",
       "      <td>2014</td>\n",
       "      <td>5</td>\n",
       "      <td>Culture &amp; Recreation</td>\n",
       "      <td>REC</td>\n",
       "      <td>Recreation and Park Commission</td>\n",
       "      <td>790.0</td>\n",
       "      <td>SEIU - Miscellaneous, Local 1021</td>\n",
       "      <td>3200</td>\n",
       "      <td>Recreation</td>\n",
       "      <td>...</td>\n",
       "      <td>48705</td>\n",
       "      <td>6701.85</td>\n",
       "      <td>0.0</td>\n",
       "      <td>176.70</td>\n",
       "      <td>6878.55</td>\n",
       "      <td>0.00</td>\n",
       "      <td>2711.66</td>\n",
       "      <td>538.43</td>\n",
       "      <td>3250.09</td>\n",
       "      <td>10128.64</td>\n",
       "    </tr>\n",
       "  </tbody>\n",
       "</table>\n",
       "<p>5 rows × 22 columns</p>\n",
       "</div>"
      ],
      "text/plain": [
       "  Year Type  Year  Organization Group Code    Organization Group  \\\n",
       "0    Fiscal  2016                        1     Public Protection   \n",
       "1  Calendar  2013                        5  Culture & Recreation   \n",
       "2  Calendar  2015                        4      Community Health   \n",
       "3    Fiscal  2015                        4      Community Health   \n",
       "4    Fiscal  2014                        5  Culture & Recreation   \n",
       "\n",
       "  Department Code                      Department  Union Code  \\\n",
       "0             DAT               District Attorney       311.0   \n",
       "1             ART                 Arts Commission       790.0   \n",
       "2             DPH                   Public Health       535.0   \n",
       "3             DPH                   Public Health       250.0   \n",
       "4             REC  Recreation and Park Commission       790.0   \n",
       "\n",
       "                               Union Job Family Code  \\\n",
       "0   Municipal Attorneys' Association            8100   \n",
       "1   SEIU - Miscellaneous, Local 1021            1800   \n",
       "2  SEIU - Human Services, Local 1021            2900   \n",
       "3  SEIU - Health Workers, Local 1021            2200   \n",
       "4   SEIU - Miscellaneous, Local 1021            3200   \n",
       "\n",
       "                      Job Family  ... Employee Identifier   Salaries  \\\n",
       "0                  Legal & Court  ...               49919  114473.16   \n",
       "1  Budget, Admn & Stats Analysis  ...                1225   84077.11   \n",
       "2                 Human Services  ...               34873    9980.17   \n",
       "3               Medical & Dental  ...               51145    2873.41   \n",
       "4                     Recreation  ...               48705    6701.85   \n",
       "\n",
       "   Overtime  Other Salaries  Total Salary  Retirement  Health/Dental  \\\n",
       "0       0.0         1500.00     115973.16    21025.98       13068.80   \n",
       "1       0.0            0.00      84077.11    16587.30       12457.73   \n",
       "2       0.0          798.43      10778.60        0.00        2254.93   \n",
       "3       0.0            0.00       2873.41        0.00         622.63   \n",
       "4       0.0          176.70       6878.55        0.00        2711.66   \n",
       "\n",
       "   Other Benefits  Total Benefits  Total Compensation  \n",
       "0         9368.71        43463.49           159436.65  \n",
       "1         6931.91        35976.94           120054.05  \n",
       "2          835.11         3090.04            13868.64  \n",
       "3          222.46          845.09             3718.50  \n",
       "4          538.43         3250.09            10128.64  \n",
       "\n",
       "[5 rows x 22 columns]"
      ]
     },
     "execution_count": 35,
     "metadata": {},
     "output_type": "execute_result"
    }
   ],
   "source": [
    "Cluster=pd.read_csv('/Users/emani/Downloads/Employee_Compensation_SF.csv')\n",
    "Cluster.head()"
   ]
  },
  {
   "cell_type": "code",
   "execution_count": 36,
   "metadata": {},
   "outputs": [
    {
     "data": {
      "text/plain": [
       "(291825, 22)"
      ]
     },
     "execution_count": 36,
     "metadata": {},
     "output_type": "execute_result"
    }
   ],
   "source": [
    "Cluster.shape"
   ]
  },
  {
   "cell_type": "code",
   "execution_count": 37,
   "metadata": {},
   "outputs": [
    {
     "data": {
      "text/plain": [
       "Year Type                   0\n",
       "Year                        0\n",
       "Organization Group Code     0\n",
       "Organization Group          0\n",
       "Department Code             0\n",
       "Department                  0\n",
       "Union Code                 43\n",
       "Union                      43\n",
       "Job Family Code            45\n",
       "Job Family                 45\n",
       "Job Code                    0\n",
       "Job                         0\n",
       "Employee Identifier         0\n",
       "Salaries                    0\n",
       "Overtime                    0\n",
       "Other Salaries              0\n",
       "Total Salary                0\n",
       "Retirement                  0\n",
       "Health/Dental               0\n",
       "Other Benefits              0\n",
       "Total Benefits              0\n",
       "Total Compensation          0\n",
       "dtype: int64"
      ]
     },
     "execution_count": 37,
     "metadata": {},
     "output_type": "execute_result"
    }
   ],
   "source": [
    "Cluster.isnull().sum()"
   ]
  },
  {
   "cell_type": "code",
   "execution_count": 38,
   "metadata": {},
   "outputs": [
    {
     "data": {
      "text/plain": [
       "Year Type                   object\n",
       "Year                         int64\n",
       "Organization Group Code      int64\n",
       "Organization Group          object\n",
       "Department Code             object\n",
       "Department                  object\n",
       "Union Code                 float64\n",
       "Union                       object\n",
       "Job Family Code             object\n",
       "Job Family                  object\n",
       "Job Code                    object\n",
       "Job                         object\n",
       "Employee Identifier          int64\n",
       "Salaries                   float64\n",
       "Overtime                   float64\n",
       "Other Salaries             float64\n",
       "Total Salary               float64\n",
       "Retirement                 float64\n",
       "Health/Dental              float64\n",
       "Other Benefits             float64\n",
       "Total Benefits             float64\n",
       "Total Compensation         float64\n",
       "dtype: object"
      ]
     },
     "execution_count": 38,
     "metadata": {},
     "output_type": "execute_result"
    }
   ],
   "source": [
    "Cluster.dtypes"
   ]
  },
  {
   "cell_type": "code",
   "execution_count": 39,
   "metadata": {},
   "outputs": [
    {
     "name": "stdout",
     "output_type": "stream",
     "text": [
      "Year Type has : 2 Unique values\n",
      "Year has : 4 Unique values\n",
      "Organization Group Code has : 7 Unique values\n",
      "Organization Group has : 7 Unique values\n",
      "Department Code has : 54 Unique values\n",
      "Department has : 54 Unique values\n",
      "Union Code has : 69 Unique values\n",
      "Union has : 73 Unique values\n",
      "Job Family Code has : 56 Unique values\n",
      "Job Family has : 55 Unique values\n",
      "Job Code has : 1133 Unique values\n",
      "Job has : 1139 Unique values\n",
      "Employee Identifier has : 52059 Unique values\n",
      "Salaries has : 214513 Unique values\n",
      "Overtime has : 108176 Unique values\n",
      "Other Salaries has : 147465 Unique values\n",
      "Total Salary has : 265962 Unique values\n",
      "Retirement has : 200963 Unique values\n",
      "Health/Dental has : 92759 Unique values\n",
      "Other Benefits has : 243798 Unique values\n",
      "Total Benefits has : 275671 Unique values\n",
      "Total Compensation has : 284433 Unique values\n"
     ]
    }
   ],
   "source": [
    "col_name=Cluster.columns\n",
    "for i in col_name:\n",
    "    print(i,'has :',Cluster[i].nunique(),\"Unique values\")"
   ]
  },
  {
   "cell_type": "code",
   "execution_count": 40,
   "metadata": {},
   "outputs": [
    {
     "data": {
      "text/html": [
       "<div>\n",
       "<style scoped>\n",
       "    .dataframe tbody tr th:only-of-type {\n",
       "        vertical-align: middle;\n",
       "    }\n",
       "\n",
       "    .dataframe tbody tr th {\n",
       "        vertical-align: top;\n",
       "    }\n",
       "\n",
       "    .dataframe thead th {\n",
       "        text-align: right;\n",
       "    }\n",
       "</style>\n",
       "<table border=\"1\" class=\"dataframe\">\n",
       "  <thead>\n",
       "    <tr style=\"text-align: right;\">\n",
       "      <th></th>\n",
       "      <th>Year</th>\n",
       "      <th>Organization Group Code</th>\n",
       "      <th>Union Code</th>\n",
       "      <th>Employee Identifier</th>\n",
       "      <th>Salaries</th>\n",
       "      <th>Overtime</th>\n",
       "      <th>Other Salaries</th>\n",
       "      <th>Total Salary</th>\n",
       "      <th>Retirement</th>\n",
       "      <th>Health/Dental</th>\n",
       "      <th>Other Benefits</th>\n",
       "      <th>Total Benefits</th>\n",
       "      <th>Total Compensation</th>\n",
       "    </tr>\n",
       "  </thead>\n",
       "  <tbody>\n",
       "    <tr>\n",
       "      <th>count</th>\n",
       "      <td>291825.000000</td>\n",
       "      <td>291825.000000</td>\n",
       "      <td>291782.000000</td>\n",
       "      <td>291825.000000</td>\n",
       "      <td>291825.000000</td>\n",
       "      <td>291825.000000</td>\n",
       "      <td>291825.000000</td>\n",
       "      <td>291825.000000</td>\n",
       "      <td>291825.000000</td>\n",
       "      <td>291825.000000</td>\n",
       "      <td>291825.000000</td>\n",
       "      <td>291825.000000</td>\n",
       "      <td>291825.000000</td>\n",
       "    </tr>\n",
       "    <tr>\n",
       "      <th>mean</th>\n",
       "      <td>2014.325061</td>\n",
       "      <td>2.977051</td>\n",
       "      <td>489.506076</td>\n",
       "      <td>26917.830316</td>\n",
       "      <td>63210.172887</td>\n",
       "      <td>4406.877440</td>\n",
       "      <td>3781.032870</td>\n",
       "      <td>71398.083196</td>\n",
       "      <td>12937.728957</td>\n",
       "      <td>8921.893732</td>\n",
       "      <td>4644.276407</td>\n",
       "      <td>26503.899096</td>\n",
       "      <td>97901.982292</td>\n",
       "    </tr>\n",
       "    <tr>\n",
       "      <th>std</th>\n",
       "      <td>1.032265</td>\n",
       "      <td>1.577771</td>\n",
       "      <td>333.761136</td>\n",
       "      <td>15548.201987</td>\n",
       "      <td>44660.462305</td>\n",
       "      <td>11079.405928</td>\n",
       "      <td>7697.665317</td>\n",
       "      <td>52224.214099</td>\n",
       "      <td>9785.064808</td>\n",
       "      <td>4900.318083</td>\n",
       "      <td>3787.907010</td>\n",
       "      <td>16800.143147</td>\n",
       "      <td>67777.549152</td>\n",
       "    </tr>\n",
       "    <tr>\n",
       "      <th>min</th>\n",
       "      <td>2013.000000</td>\n",
       "      <td>1.000000</td>\n",
       "      <td>1.000000</td>\n",
       "      <td>1.000000</td>\n",
       "      <td>-68771.780000</td>\n",
       "      <td>-12308.660000</td>\n",
       "      <td>-19131.100000</td>\n",
       "      <td>-68771.780000</td>\n",
       "      <td>-30621.430000</td>\n",
       "      <td>-2940.470000</td>\n",
       "      <td>-10636.500000</td>\n",
       "      <td>-21295.150000</td>\n",
       "      <td>-74082.610000</td>\n",
       "    </tr>\n",
       "    <tr>\n",
       "      <th>25%</th>\n",
       "      <td>2013.000000</td>\n",
       "      <td>2.000000</td>\n",
       "      <td>216.000000</td>\n",
       "      <td>13444.000000</td>\n",
       "      <td>23281.920000</td>\n",
       "      <td>0.000000</td>\n",
       "      <td>0.000000</td>\n",
       "      <td>25276.010000</td>\n",
       "      <td>3549.540000</td>\n",
       "      <td>4318.170000</td>\n",
       "      <td>1587.190000</td>\n",
       "      <td>9604.500000</td>\n",
       "      <td>35817.450000</td>\n",
       "    </tr>\n",
       "    <tr>\n",
       "      <th>50%</th>\n",
       "      <td>2014.000000</td>\n",
       "      <td>2.000000</td>\n",
       "      <td>535.000000</td>\n",
       "      <td>27003.000000</td>\n",
       "      <td>62519.120000</td>\n",
       "      <td>0.000000</td>\n",
       "      <td>697.080000</td>\n",
       "      <td>67847.870000</td>\n",
       "      <td>13167.730000</td>\n",
       "      <td>11966.610000</td>\n",
       "      <td>4349.090000</td>\n",
       "      <td>30316.690000</td>\n",
       "      <td>98022.370000</td>\n",
       "    </tr>\n",
       "    <tr>\n",
       "      <th>75%</th>\n",
       "      <td>2015.000000</td>\n",
       "      <td>4.000000</td>\n",
       "      <td>790.000000</td>\n",
       "      <td>40401.000000</td>\n",
       "      <td>92910.710000</td>\n",
       "      <td>2766.580000</td>\n",
       "      <td>4621.480000</td>\n",
       "      <td>103148.090000</td>\n",
       "      <td>19570.330000</td>\n",
       "      <td>12801.790000</td>\n",
       "      <td>6829.480000</td>\n",
       "      <td>38720.820000</td>\n",
       "      <td>142058.420000</td>\n",
       "    </tr>\n",
       "    <tr>\n",
       "      <th>max</th>\n",
       "      <td>2016.000000</td>\n",
       "      <td>7.000000</td>\n",
       "      <td>990.000000</td>\n",
       "      <td>53794.000000</td>\n",
       "      <td>515101.800000</td>\n",
       "      <td>227313.620000</td>\n",
       "      <td>342802.630000</td>\n",
       "      <td>515101.800000</td>\n",
       "      <td>105052.980000</td>\n",
       "      <td>21872.800000</td>\n",
       "      <td>35157.630000</td>\n",
       "      <td>141043.640000</td>\n",
       "      <td>653498.150000</td>\n",
       "    </tr>\n",
       "  </tbody>\n",
       "</table>\n",
       "</div>"
      ],
      "text/plain": [
       "                Year  Organization Group Code     Union Code  \\\n",
       "count  291825.000000            291825.000000  291782.000000   \n",
       "mean     2014.325061                 2.977051     489.506076   \n",
       "std         1.032265                 1.577771     333.761136   \n",
       "min      2013.000000                 1.000000       1.000000   \n",
       "25%      2013.000000                 2.000000     216.000000   \n",
       "50%      2014.000000                 2.000000     535.000000   \n",
       "75%      2015.000000                 4.000000     790.000000   \n",
       "max      2016.000000                 7.000000     990.000000   \n",
       "\n",
       "       Employee Identifier       Salaries       Overtime  Other Salaries  \\\n",
       "count        291825.000000  291825.000000  291825.000000   291825.000000   \n",
       "mean          26917.830316   63210.172887    4406.877440     3781.032870   \n",
       "std           15548.201987   44660.462305   11079.405928     7697.665317   \n",
       "min               1.000000  -68771.780000  -12308.660000   -19131.100000   \n",
       "25%           13444.000000   23281.920000       0.000000        0.000000   \n",
       "50%           27003.000000   62519.120000       0.000000      697.080000   \n",
       "75%           40401.000000   92910.710000    2766.580000     4621.480000   \n",
       "max           53794.000000  515101.800000  227313.620000   342802.630000   \n",
       "\n",
       "        Total Salary     Retirement  Health/Dental  Other Benefits  \\\n",
       "count  291825.000000  291825.000000  291825.000000   291825.000000   \n",
       "mean    71398.083196   12937.728957    8921.893732     4644.276407   \n",
       "std     52224.214099    9785.064808    4900.318083     3787.907010   \n",
       "min    -68771.780000  -30621.430000   -2940.470000   -10636.500000   \n",
       "25%     25276.010000    3549.540000    4318.170000     1587.190000   \n",
       "50%     67847.870000   13167.730000   11966.610000     4349.090000   \n",
       "75%    103148.090000   19570.330000   12801.790000     6829.480000   \n",
       "max    515101.800000  105052.980000   21872.800000    35157.630000   \n",
       "\n",
       "       Total Benefits  Total Compensation  \n",
       "count   291825.000000       291825.000000  \n",
       "mean     26503.899096        97901.982292  \n",
       "std      16800.143147        67777.549152  \n",
       "min     -21295.150000       -74082.610000  \n",
       "25%       9604.500000        35817.450000  \n",
       "50%      30316.690000        98022.370000  \n",
       "75%      38720.820000       142058.420000  \n",
       "max     141043.640000       653498.150000  "
      ]
     },
     "execution_count": 40,
     "metadata": {},
     "output_type": "execute_result"
    }
   ],
   "source": [
    "Cluster.describe()"
   ]
  },
  {
   "cell_type": "code",
   "execution_count": 41,
   "metadata": {},
   "outputs": [
    {
     "data": {
      "text/plain": [
       "array([2016, 2013, 2015, 2014])"
      ]
     },
     "execution_count": 41,
     "metadata": {},
     "output_type": "execute_result"
    }
   ],
   "source": [
    "Cluster.Year.unique()"
   ]
  },
  {
   "cell_type": "code",
   "execution_count": 42,
   "metadata": {},
   "outputs": [
    {
     "data": {
      "text/plain": [
       "array([\"Municipal Attorneys' Association\",\n",
       "       'SEIU - Miscellaneous, Local 1021',\n",
       "       'SEIU - Human Services, Local 1021',\n",
       "       'SEIU - Health Workers, Local 1021',\n",
       "       'Prof & Tech Engineers - Miscellaneous, Local 21',\n",
       "       \"Police Officers' Association\", \"Deputy Sheriffs' Association\",\n",
       "       'Laborers, Local 261',\n",
       "       'Transport Workers - Transit Operators, Local 250-A',\n",
       "       'Prof & Tech Engineers - Personnel, Local 21',\n",
       "       'Theatrical and Stage Employees, Local 16',\n",
       "       'Plumbers and Pipefitters, Local 38',\n",
       "       'SEIU - Staff and Per Diem Nurses, Local 1021',\n",
       "       'Painters, Local 1176', 'Miscellaneous Unrepresented Employees',\n",
       "       'Stationary Engineers, Local 39',\n",
       "       'Teamsters - Miscellaneous, Local 856',\n",
       "       'Firefighters - Miscellaneous, Local 798',\n",
       "       'Municipal Executive Association - Court',\n",
       "       'Electrical Workers, Local 6', 'Automotive Machinists, Local 1414',\n",
       "       'Municipal Executive Association - Miscellaneous',\n",
       "       \"Sheriff's Managers and Supervisors Association\",\n",
       "       'Transportation Workers, Local 200',\n",
       "       'Physicians and Dentists - Miscellaneous',\n",
       "       'Operating Engineers - Miscellaneous, Local 3',\n",
       "       'Teamsters - Supervising Nurses, Local 856',\n",
       "       'Members of Boards and Commissions',\n",
       "       'Transport Workers - Fare Inspectors, Local 250-A',\n",
       "       'Court Unrepresented Professionals', 'Teamsters, Local 853',\n",
       "       'Firefighters - Chiefs/Fire Boat Workers, Local 798',\n",
       "       \"Deputy Probation Officers' Association\",\n",
       "       'Court Unrepresented Bench Officers',\n",
       "       'Transport Workers - Auto Svc Workers, Local 250-A',\n",
       "       'SEIU - Court Employees, Local 1021',\n",
       "       'Firefighters Unit 1, Local 798',\n",
       "       'Management Unrepresented Employees',\n",
       "       'Sheet Metal Workers, Local 104', 'Bricklayers, Local 3',\n",
       "       'Iron Workers, Local 377',\n",
       "       'Prof & Tech Engineers - Court Employees, Local 21',\n",
       "       'Transport Workers - Miscellaneous, Local 250-A',\n",
       "       'Prof & Tech Engineers - Court Reporters, Local 21',\n",
       "       'Physicians and Dentists - Spv Physician Specialist',\n",
       "       'Carpenters, Local 22', 'Municipal Executive Association - Fire',\n",
       "       \"Building Inspectors' Association - Inspectors\",\n",
       "       'Pile Drivers, Local 34',\n",
       "       'Members of Boards and Commissions - No Benefits',\n",
       "       'Cement Masons, Local 300',\n",
       "       \"District Attorney Investigators' Association\",\n",
       "       'SEIU - Firefighter Paramedics, Local 1021',\n",
       "       'Prof & Tech Engineers - Court Attorneys, Local 21',\n",
       "       'Hod Carriers, Local 166', 'Court Interpreters, Local 39521',\n",
       "       'Carpet, Linoleum and Soft Tile Workers, Local 12',\n",
       "       'Roofers and Waterproofers, Local 40',\n",
       "       'Operating Engineers - Sup Probation Ofcrs, Local 3',\n",
       "       \"Building Inspectors' Association - Chiefs\",\n",
       "       'Executive Contract Employees',\n",
       "       'Members of the Board of Supervisors',\n",
       "       'Glaziers, Metal, and Glass Workers, Local 718',\n",
       "       'Law Librarian and Assistant', nan, 'Elected Officials',\n",
       "       'Court Unrepresented Managers', 'Laborers Int, Local 261',\n",
       "       'Port Director', 'Management Unrepresented Employees - MTA',\n",
       "       'Municipal Exec Assoc-Misc', 'POA',\n",
       "       \"Institutional Police Officers' Association\",\n",
       "       'Municipal Executive Association - Police'], dtype=object)"
      ]
     },
     "execution_count": 42,
     "metadata": {},
     "output_type": "execute_result"
    }
   ],
   "source": [
    "Cluster.Union.unique()"
   ]
  },
  {
   "cell_type": "code",
   "execution_count": 43,
   "metadata": {},
   "outputs": [
    {
     "data": {
      "image/png": "[encoded data removed]",
      "text/plain": [
       "<Figure size 432x288 with 1 Axes>"
      ]
     },
     "metadata": {
      "needs_background": "light"
     },
     "output_type": "display_data"
    }
   ],
   "source": [
    "sns.distplot(Cluster['Year'])\n",
    "plt.show()"
   ]
  },
  {
   "cell_type": "code",
   "execution_count": 44,
   "metadata": {},
   "outputs": [
    {
     "name": "stdout",
     "output_type": "stream",
     "text": [
      "Skewness: 0.143671\n",
      "Kurtosis: -1.157610\n"
     ]
    }
   ],
   "source": [
    "print(\"Skewness: %f\" % Cluster['Year'].skew())\n",
    "print(\"Kurtosis: %f\" % Cluster['Year'].kurt())"
   ]
  },
  {
   "cell_type": "code",
   "execution_count": 45,
   "metadata": {},
   "outputs": [],
   "source": [
    "from sklearn.cluster import KMeans"
   ]
  },
  {
   "cell_type": "code",
   "execution_count": 46,
   "metadata": {},
   "outputs": [],
   "source": [
    "kmeans=KMeans(n_clusters=3)"
   ]
  },
  {
   "cell_type": "code",
   "execution_count": 47,
   "metadata": {},
   "outputs": [
    {
     "data": {
      "text/plain": [
       "Index(['Year Type', 'Year', 'Organization Group Code', 'Organization Group',\n",
       "       'Department Code', 'Department', 'Union Code', 'Union',\n",
       "       'Job Family Code', 'Job Family', 'Job Code', 'Job',\n",
       "       'Employee Identifier', 'Salaries', 'Overtime', 'Other Salaries',\n",
       "       'Total Salary', 'Retirement', 'Health/Dental', 'Other Benefits',\n",
       "       'Total Benefits', 'Total Compensation'],\n",
       "      dtype='object')"
      ]
     },
     "execution_count": 47,
     "metadata": {},
     "output_type": "execute_result"
    }
   ],
   "source": [
    "Cluster.columns"
   ]
  },
  {
   "cell_type": "code",
   "execution_count": 53,
   "metadata": {},
   "outputs": [],
   "source": [
    "Cluster1 = Cluster.drosns.countplot(x=kmeans.labels_, palette='Oranges')\n",
    "plt.show()p(['Year Type','Organization Group','Department Code','Department',\n",
    "                         'Union','Job Family Code','Job Family','Job Code','Job'], axis=1)"
   ]
  },
  {
   "cell_type": "code",
   "execution_count": 54,
   "metadata": {},
   "outputs": [
    {
     "name": "stdout",
     "output_type": "stream",
     "text": [
      "<class 'pandas.core.frame.DataFrame'>\n",
      "RangeIndex: 291825 entries, 0 to 291824\n",
      "Data columns (total 13 columns):\n",
      " #   Column                   Non-Null Count   Dtype  \n",
      "---  ------                   --------------   -----  \n",
      " 0   Year                     291825 non-null  int64  \n",
      " 1   Organization Group Code  291825 non-null  int64  \n",
      " 2   Union Code               291782 non-null  float64\n",
      " 3   Employee Identifier      291825 non-null  int64  \n",
      " 4   Salaries                 291825 non-null  float64\n",
      " 5   Overtime                 291825 non-null  float64\n",
      " 6   Other Salaries           291825 non-null  float64\n",
      " 7   Total Salary             291825 non-null  float64\n",
      " 8   Retirement               291825 non-null  float64\n",
      " 9   Health/Dental            291825 non-null  float64\n",
      " 10  Other Benefits           291825 non-null  float64\n",
      " 11  Total Benefits           291825 non-null  float64\n",
      " 12  Total Compensation       291825 non-null  float64\n",
      "dtypes: float64(10), int64(3)\n",
      "memory usage: 28.9 MB\n"
     ]
    }
   ],
   "source": [
    "Cluster1.info()"
   ]
  },
  {
   "cell_type": "code",
   "execution_count": 65,
   "metadata": {},
   "outputs": [],
   "source": [
    "Cluster1['Union Code'] = Cluster1['Union Code'].fillna(Cluster1['Union Code'].mean())"
   ]
  },
  {
   "cell_type": "code",
   "execution_count": 68,
   "metadata": {},
   "outputs": [
    {
     "data": {
      "text/plain": [
       "Year                       0\n",
       "Organization Group Code    0\n",
       "Union Code                 0\n",
       "Employee Identifier        0\n",
       "Salaries                   0\n",
       "Overtime                   0\n",
       "Other Salaries             0\n",
       "Total Salary               0\n",
       "Retirement                 0\n",
       "Health/Dental              0\n",
       "Other Benefits             0\n",
       "Total Benefits             0\n",
       "Total Compensation         0\n",
       "dtype: int64"
      ]
     },
     "execution_count": 68,
     "metadata": {},
     "output_type": "execute_result"
    }
   ],
   "source": [
    "Cluster1.isnull().sum()"
   ]
  },
  {
   "cell_type": "code",
   "execution_count": 72,
   "metadata": {},
   "outputs": [],
   "source": [
    "cluster_model = kmeans.fit(Cluster1)"
   ]
  },
  {
   "cell_type": "code",
   "execution_count": 73,
   "metadata": {},
   "outputs": [
    {
     "data": {
      "text/plain": [
       "array([2, 0, 1, ..., 1, 0, 1], dtype=int32)"
      ]
     },
     "execution_count": 73,
     "metadata": {},
     "output_type": "execute_result"
    }
   ],
   "source": [
    "cluster_model.labels_"
   ]
  },
  {
   "cell_type": "code",
   "execution_count": 74,
   "metadata": {},
   "outputs": [
    {
     "data": {
      "image/png": "[encoded data removed]",
      "text/plain": [
       "<Figure size 432x288 with 1 Axes>"
      ]
     },
     "metadata": {
      "needs_background": "light"
     },
     "output_type": "display_data"
    }
   ],
   "source": [
    "sns.countplot(x=kmeans.labels_, palette='Oranges')\n",
    "plt.show()"
   ]
  },
  {
   "cell_type": "code",
   "execution_count": 77,
   "metadata": {},
   "outputs": [
    {
     "data": {
      "image/png": "[encoded data removed]",
      "text/plain": [
       "<Figure size 432x288 with 1 Axes>"
      ]
     },
     "metadata": {
      "needs_background": "light"
     },
     "output_type": "display_data"
    }
   ],
   "source": [
    "plt.scatter(Cluster.iloc[:,0].values,Cluster.iloc[:,3].values, c=kmeans.labels_, cmap=\"rainbow\")\n",
    "plt.show()"
   ]
  },
  {
   "cell_type": "code",
   "execution_count": null,
   "metadata": {},
   "outputs": [],
   "source": []
  }
 ],
 "metadata": {
  "kernelspec": {
   "display_name": "Python 3",
   "language": "python",
   "name": "python3"
  },
  "language_info": {
   "codemirror_mode": {
    "name": "ipython",
    "version": 3
   },
   "file_extension": ".py",
   "mimetype": "text/x-python",
   "name": "python",
   "nbconvert_exporter": "python",
   "pygments_lexer": "ipython3",
   "version": "3.7.6"
  }
 },
 "nbformat": 4,
 "nbformat_minor": 4
}
